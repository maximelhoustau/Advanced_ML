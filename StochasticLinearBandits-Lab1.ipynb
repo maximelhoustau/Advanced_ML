{
 "cells": [
  {
   "cell_type": "markdown",
   "metadata": {
    "toc": true
   },
   "source": [
    "<h1>Table of Contents<span class=\"tocSkip\"></span></h1>\n",
    "<div class=\"toc\"><ul class=\"toc-item\"><li><span><a href=\"#LinUCB-:-Implementing-optimism-in-$R^d$\" data-toc-modified-id=\"LinUCB-:-Implementing-optimism-in-$R^d$-1\"><span class=\"toc-item-num\">1&nbsp;&nbsp;</span>LinUCB : Implementing optimism in $R^d$</a></span></li><li><span><a href=\"#LinTS-:-Taking-the-Bayesian-way\" data-toc-modified-id=\"LinTS-:-Taking-the-Bayesian-way-2\"><span class=\"toc-item-num\">2&nbsp;&nbsp;</span>LinTS : Taking the Bayesian way</a></span></li></ul></div>"
   ]
  },
  {
   "cell_type": "code",
   "execution_count": 1,
   "metadata": {
    "ExecuteTime": {
     "end_time": "2020-01-18T18:25:21.514209Z",
     "start_time": "2020-01-18T18:25:19.820305Z"
    },
    "colab": {},
    "colab_type": "code",
    "id": "ylZIq1mOJBr8"
   },
   "outputs": [],
   "source": [
    "import sys\n",
    "\n",
    "import numpy as np\n",
    "from scipy.stats import bernoulli\n",
    "from math import log\n",
    "\n",
    "import random\n",
    "import matplotlib.pyplot as plt\n",
    "%matplotlib inline\n",
    "\n",
    "import seaborn as sns"
   ]
  },
  {
   "cell_type": "markdown",
   "metadata": {
    "colab_type": "text",
    "id": "njfnT-sUER9J"
   },
   "source": [
    "# Practical Session on Stochastic Linear Bandits :\n",
    "\n",
    "The architecture of code below provides the environment to run a standard linear bandit experiment. \n",
    "\n",
    "## LinUCB : Implementing optimism in $R^d$\n",
    "\n",
    "* Implement LinUCB as studied in class. In your opinion, what is (are) the bottleneck(s) of this algorithm ? \n",
    "* One key step is to invert the covariance matrix in order to compute the elliptical norm of each available action. At round $t+1$ the new covariance matrix is very similar to the previous one... Can you think of a way to optimize this step by simply updating the old one ? \n",
    "Hint : You can search for a way to compute the inverse of the sum of an invertible matrix A and the outer product, $ uv^\\top$, of vectors u and v.\n",
    "* It is common practice to tweak LinUCB by multiplying the confidence bonus by some hyperparameter $ 0<\\alpha <1 $. \n",
    "What would be the effect of doing so ? Do you think it is a good idea ? What are the risks ?\n",
    "\n",
    "## LinTS : Taking the Bayesian way\n",
    "\n",
    "Thompson Sampling is a popular bayesian alternative to the standard optimistic bandit algorithms (see Chapter 36 of Bandit Algorithms). The key idea is to rely on Bayesian samples to get a proxy for the hidden parameter $\\theta$ of the problem instead of building high-probability confidence regions. \n",
    "\n",
    "* Let us place a Gaussian prior with mean $\\mathbf{0}$ and covariance $\\sigma_0 I$ on $\\theta$. Given actions $A_1,\\ldots,A_t$ and rewards $Y_1,\\ldots,Y_t$, Can you compute the expression of the posterior at the beginning of round $t+1$ ? \n",
    "* Implement LinTS (Linear Thompson Sampling)"
   ]
  },
  {
   "cell_type": "markdown",
   "metadata": {
    "colab_type": "text",
    "id": "cX2dtH9A90C0"
   },
   "source": [
    "# Plot Function"
   ]
  },
  {
   "cell_type": "code",
   "execution_count": 50,
   "metadata": {
    "ExecuteTime": {
     "end_time": "2020-01-18T19:49:52.223315Z",
     "start_time": "2020-01-18T19:49:52.202618Z"
    },
    "colab": {},
    "colab_type": "code",
    "id": "1JbkkaXnJgqG"
   },
   "outputs": [],
   "source": [
    "## Plot function : \n",
    "#-*-coding: utf-8 -*-\n",
    "\n",
    "current_palette = sns.color_palette()\n",
    "sns.set_style(\"ticks\")\n",
    "\n",
    "\n",
    "styles = ['o', '^', 's', 'D', '*']\n",
    "colors = current_palette[0:4]+current_palette[5:6]\n",
    "color_lb = current_palette[4]\n",
    "\n",
    "algos = {'LinUCB_Li': 'LinUCB_Li',\n",
    "         'LinUCB_naive': 'LinUCB_naive',\n",
    "         'Unif': 'Unif'}\n",
    "\n",
    "def plot_regret(data, tsav, filename, log=False, taum=False,\n",
    "                freq=50, qtl=False):\n",
    "    fig = plt.figure(figsize=(7, 6))\n",
    "    Nsub = len(tsav)\n",
    "    T = len(data[0][1]) # length of regret\n",
    "    N_curves = len(data)\n",
    "    if log == True:\n",
    "        plt.xscale('log')\n",
    "        markevery = 1. / 12\n",
    "        freq = 1\n",
    "    i = 0\n",
    "    \n",
    "    for key, regret, avgRegret, qRegret, QRegret in data:\n",
    "        T = len(regret)\n",
    "        if qtl:\n",
    "            label = algos[key] # r\"\\textbf{%s}\" % \n",
    "            plt.plot(tsav, avgRegret, marker=styles[i], markevery=4,\n",
    "                     ms=10.0, label=label, color=colors[i])\n",
    "            plt.fill_between(tsav, qRegret, QRegret, alpha=0.15, \n",
    "                             linewidth=1.5, color=colors[i])\n",
    "        else:\n",
    "            label = algos[key] #r\"\\textbf{%s}\" % algos[key]\n",
    "            plt.plot(np.arange(len(regret))[0::freq], regret[0::freq],\n",
    "                     marker=styles[i], ms=10.0,\n",
    "                     label=label, color=colors[i])\n",
    "        i += 1\n",
    "\n",
    "    plt.legend(loc=2)\n",
    "    plt.xlabel('Round t', fontsize=20)\n",
    "    plt.ylabel('Regret R(T)', fontsize=18)\n",
    "        \n",
    "    plt.savefig('%s.pdf' % (filename), bbox_inches='tight')\n",
    "    plt.show()\n",
    "    plt.close(fig)\n",
    "    return\n",
    "  \n",
    " \n"
   ]
  },
  {
   "cell_type": "markdown",
   "metadata": {
    "colab_type": "text",
    "id": "HH892IKv95t3"
   },
   "source": [
    "# Action generators "
   ]
  },
  {
   "cell_type": "code",
   "execution_count": 3,
   "metadata": {
    "ExecuteTime": {
     "end_time": "2020-01-18T18:25:21.545470Z",
     "start_time": "2020-01-18T18:25:21.539748Z"
    },
    "colab": {},
    "colab_type": "code",
    "id": "dKTTMwwB8rQS"
   },
   "outputs": [],
   "source": [
    "def randomActionsGenerator(K,d):\n",
    "  \"\"\"\n",
    "  K: int -- number of action vectors to be generated\n",
    "  d : int -- dimension of the action space\n",
    "  returns : an array of K vectors uniformly sampled on the unit sphere in R^d\n",
    "  \"\"\"\n",
    "\n",
    "  vecs = np.random.multivariate_normal(np.zeros(d), np.eye(d), size =K)\n",
    "  norms = np.linalg.norm(vecs,axis=1)\n",
    "  return vecs / norms[:,np.newaxis]"
   ]
  },
  {
   "cell_type": "code",
   "execution_count": 4,
   "metadata": {
    "ExecuteTime": {
     "end_time": "2020-01-18T18:25:21.558149Z",
     "start_time": "2020-01-18T18:25:21.550403Z"
    },
    "colab": {},
    "colab_type": "code",
    "id": "oRMn0Zrx9rvX"
   },
   "outputs": [
    {
     "name": "stdout",
     "output_type": "stream",
     "text": [
      "(100, 2)\n"
     ]
    }
   ],
   "source": [
    "a = randomActionsGenerator(100,2)\n",
    "print(a.shape)"
   ]
  },
  {
   "cell_type": "code",
   "execution_count": 5,
   "metadata": {
    "ExecuteTime": {
     "end_time": "2020-01-18T18:25:21.867368Z",
     "start_time": "2020-01-18T18:25:21.562858Z"
    },
    "colab": {
     "base_uri": "https://localhost:8080/",
     "height": 286
    },
    "colab_type": "code",
    "id": "UeLSv2Vp9-75",
    "outputId": "0c6e20e2-009c-4d15-afdf-10dd2b306a6b"
   },
   "outputs": [
    {
     "data": {
      "text/plain": [
       "<matplotlib.collections.PathCollection at 0x1248210b8>"
      ]
     },
     "execution_count": 5,
     "metadata": {},
     "output_type": "execute_result"
    },
    {
     "data": {
      "image/png": "[encoded data removed]",
      "text/plain": [
       "<Figure size 432x288 with 1 Axes>"
      ]
     },
     "metadata": {},
     "output_type": "display_data"
    }
   ],
   "source": [
    "plt.scatter(a[:,0],a[:,1])"
   ]
  },
  {
   "cell_type": "markdown",
   "metadata": {
    "colab_type": "text",
    "id": "3phj8yu79_Rt"
   },
   "source": [
    "# Environment Class"
   ]
  },
  {
   "cell_type": "code",
   "execution_count": 6,
   "metadata": {
    "ExecuteTime": {
     "end_time": "2020-01-18T18:25:21.880630Z",
     "start_time": "2020-01-18T18:25:21.870863Z"
    },
    "colab": {},
    "colab_type": "code",
    "id": "zKlD-rMUKumJ"
   },
   "outputs": [],
   "source": [
    "class Environment:\n",
    "  \"\"\"\n",
    "    Parameters:\n",
    "    -----------\n",
    "    K:  int\n",
    "        Number of arms generated at each round\n",
    "\n",
    "    d: int\n",
    "        Dimension of the problem\n",
    "\n",
    "    theta: d-dimensional vector\n",
    "        Key hidden parameter of the problem\n",
    "\n",
    "\n",
    "    \"\"\"\n",
    "\n",
    "  def __init__(self, d, K, theta):\n",
    "    self.theta = theta\n",
    "    self.d = d\n",
    "    self.K = K\n",
    "    \n",
    "\n",
    "  \n",
    "\n",
    "  def play(self, chosen_arm):\n",
    "    \"\"\"Play the arm with index choice and returns the corresponding reward:\n",
    "\n",
    "        expected_reward + gaussian_noise\n",
    "        \"\"\"\n",
    "\n",
    "    expected_reward = np.dot(chosen_arm, self.theta)\n",
    "    reward = np.random.normal(expected_reward)\n",
    "\n",
    "    return chosen_arm, expected_reward, reward\n",
    "\n",
    "  def getBestArm(self, arms):\n",
    "    \"\"\"Return the index of the best arm and the corresponding expected payoff\"\"\"\n",
    "    payoffs = np.zeros(self.K)\n",
    "    for i in range(self.K):\n",
    "      payoffs[i] = np.dot(arms[i,:], self.theta)\n",
    "\n",
    "    bestArm = np.argmax(payoffs)\n",
    "    return bestArm, payoffs[bestArm]"
   ]
  },
  {
   "cell_type": "markdown",
   "metadata": {
    "colab_type": "text",
    "id": "-_PSPRfU-CRy"
   },
   "source": [
    "# Simulator"
   ]
  },
  {
   "cell_type": "code",
   "execution_count": 7,
   "metadata": {
    "ExecuteTime": {
     "end_time": "2020-01-18T18:25:21.914979Z",
     "start_time": "2020-01-18T18:25:21.883750Z"
    },
    "colab": {},
    "colab_type": "code",
    "id": "DGBOLpGfIg7M"
   },
   "outputs": [],
   "source": [
    "class Simulator():\n",
    "  \"\"\"\n",
    "    Simulator of stochastic delayed games.\n",
    "\n",
    "    Params:\n",
    "    -------\n",
    "\n",
    "    policies: list\n",
    "        List of policies to test.\n",
    "\n",
    "    K: int\n",
    "        Number of arms to be generated at each round\n",
    "\n",
    "    d: int\n",
    "        Dimension of the problem\n",
    "\n",
    "    \"\"\"\n",
    "\n",
    "  def __init__(self, environment, policies, K, d):\n",
    "    self.env = environment\n",
    "    self.policies = policies\n",
    "    self.d = d\n",
    "    self.K = K\n",
    "\n",
    "  def run(self, T, N, q, tsav):\n",
    "    \"\"\"Runs an experiment with parameters T and N.\n",
    "\n",
    "        It returns a dictionary whose keys are policies and whose values\n",
    "        are the regret obtained by these policies over the experiments and\n",
    "        averaged over N runs.qRegret and QRegret are the first and third quartiles.\n",
    "\n",
    "        Parameters\n",
    "        ----------\n",
    "        T: int\n",
    "            Length of the sequential allocations.\n",
    "\n",
    "        N: int\n",
    "            Number of Monte Carlo repetitions.\n",
    "\n",
    "        q: int\n",
    "            Quantile parameter (e.g. 25 -> quartiles)\n",
    "\n",
    "        tsav: numpy array (ndim = 1)\n",
    "            Points to save on each trajectory.\n",
    "        \"\"\"\n",
    "    #Nsub = np.size(tsav)\n",
    "\n",
    "    regret, cumRegret, N_plays = dict(), dict(), dict()\n",
    "    Nsub = np.size(tsav)  # Number of points saved for each trajectory\n",
    "    avgRegret, qRegret, QRegret = dict(), dict(), dict()\n",
    "\n",
    "    for policy in self.policies:\n",
    "      name = policy.id()\n",
    "      cumRegret[name] = np.zeros((N, Nsub))\n",
    "      regret[name] = np.zeros(T)\n",
    "\n",
    "    for nExp in range(N):\n",
    "\n",
    "      if N < 10 or nExp % (N / 5) == 0:\n",
    "        print(\"experiments executed:\", nExp)\n",
    "        sys.stdout.flush()\n",
    "\n",
    "      for policy in self.policies:\n",
    "\n",
    "        name = policy.id()\n",
    "        # Reinitialize the policy\n",
    "        policy.init()\n",
    "        optimalRewards = np.zeros(T)\n",
    "        rewards = np.zeros(T)\n",
    "\n",
    "        # We follow the policy\n",
    "        #print \"ready for experiment %d\" % (nExp)\n",
    "        for t in range(T):\n",
    "\n",
    "          # get arms, play one of them (policy), get reward:\n",
    "          availableArms = randomActionsGenerator(self.K,self.d)  \n",
    "          A_t = policy.selectArm(availableArms, self.K)\n",
    "          chosen_arm, expected_reward, reward = self.env.play(availableArms[A_t,:])\n",
    "\n",
    "          #update the policy:\n",
    "          policy.updateState(chosen_arm,reward)\n",
    "\n",
    "          #compute instant pseudo regret\n",
    "          instantBestArm, instantBestReward = self.env.getBestArm(availableArms)\n",
    "          optimalRewards[t] += instantBestReward\n",
    "          rewards[t] += expected_reward\n",
    "        \n",
    "\n",
    "        regret[name] += (optimalRewards - rewards) \n",
    "        cumRegret[name][nExp] += np.cumsum(optimalRewards - rewards)[tsav]\n",
    "\n",
    "\n",
    "    print(\"build data out of the experiments\")\n",
    "    for policy in self.policies:\n",
    "      name = policy.id()\n",
    "      regret[name] = np.cumsum(regret[name]) / N\n",
    "\n",
    "      cumReg = cumRegret[name]\n",
    "      avgRegret[name] = np.mean(cumReg, 0)\n",
    "      qRegret[name] = np.percentile(cumReg, q, 0)\n",
    "      QRegret[name] = np.percentile(cumReg, 100 - q, 0)\n",
    "\n",
    "    print(\"data built\")\n",
    "    return regret, avgRegret, qRegret, QRegret"
   ]
  },
  {
   "cell_type": "code",
   "execution_count": null,
   "metadata": {
    "colab": {},
    "colab_type": "code",
    "id": "ChN6oiILAk2S"
   },
   "outputs": [],
   "source": []
  },
  {
   "cell_type": "markdown",
   "metadata": {
    "colab_type": "text",
    "id": "DH0xNaMfBAbD"
   },
   "source": [
    "# Policies"
   ]
  },
  {
   "cell_type": "code",
   "execution_count": 8,
   "metadata": {
    "ExecuteTime": {
     "end_time": "2020-01-18T18:25:21.926883Z",
     "start_time": "2020-01-18T18:25:21.919232Z"
    },
    "colab": {},
    "colab_type": "code",
    "id": "5A0uWkbDBEnI"
   },
   "outputs": [],
   "source": [
    "\n",
    "\n",
    "class Policy(object):\n",
    "\n",
    "  def __init__(self, K, T):\n",
    "    \"\"\"\n",
    "        Constructor.\n",
    "        \"\"\"\n",
    "    raise NotImplementedError(\"Method `__init__` is not implemented.\")\n",
    "\n",
    "  def selectArm(self):\n",
    "    \"\"\"\n",
    "        This functions selects L arms among the K ones depending on statistics\n",
    "        over the past observations.\n",
    "        \"\"\"\n",
    "    raise NotImplementedError(\"Method `selectArms` is not implemented.\")\n",
    "\n",
    "  def updateState(self):\n",
    "    \"\"\"\n",
    "        This function updates the statistics given the new observations.\n",
    "        \"\"\"\n",
    "    raise NotImplementedError(\"Method `updateState` is not implemented.\")\n",
    "\n",
    "  def init(self):\n",
    "    \"\"\"\n",
    "        This function updates the statistics given the new observations.\n",
    "        \"\"\"\n",
    "    raise NotImplementedError(\"Method `updateState` is not implemented.\") \n",
    "\n",
    "  #@staticmethod\n",
    "  def id(self):\n",
    "    raise NotImplementedError(\"Static method `id` is not implemented.\")\n"
   ]
  },
  {
   "cell_type": "code",
   "execution_count": 48,
   "metadata": {
    "ExecuteTime": {
     "end_time": "2020-01-18T19:42:28.108574Z",
     "start_time": "2020-01-18T19:42:28.085111Z"
    },
    "colab": {},
    "colab_type": "code",
    "id": "e9uEOaPwBAbA"
   },
   "outputs": [],
   "source": [
    "## Policies :\n",
    "\n",
    "class Uniform(Policy):\n",
    "  def __init__(self, T,d):\n",
    "    pass\n",
    "\n",
    "  def selectArm(self, arms, K):\n",
    "    return np.random.choice(K)\n",
    "\n",
    "  def updateState(self, chosen_arm, reward):\n",
    "    pass\n",
    "\n",
    "  def init(self):\n",
    "    pass\n",
    "\n",
    "  #@staticmethod\n",
    "  def id(self):\n",
    "    return 'Unif'\n",
    "\n",
    "from numpy.linalg import pinv\n",
    "\n",
    "\n",
    "# This policy implement the LinUCB algorithm as it was written in the Section 3.1\n",
    "# of the following paper by Li et al.2010 : http://rob.schapire.net/papers/www10.pdf\n",
    "class LinUCB_Li(Policy):\n",
    "\n",
    "  def __init__(self, T, d, K, alpha):\n",
    "    self.d = d\n",
    "    self.alpha = alpha\n",
    "    self.K = K\n",
    "    self.index = -1\n",
    "    #dropping the loglog(t) term for now\n",
    "\n",
    "  def init(self):\n",
    "    #INIT A et b\n",
    "    self.A = [np.identity(self.d)]*self.K\n",
    "    self.b = [np.zeros(self.d)]*self.K\n",
    "\n",
    "  def selectArm(self, arms, K):\n",
    "    \"\"\"\n",
    "        This function implements LinUCB\n",
    "        Input:\n",
    "        -------\n",
    "        arms : list of arms (d-dimensional vectors)\n",
    "\n",
    "        Output:\n",
    "        -------\n",
    "        chosen_arm : index of the pulled arm\n",
    "        \"\"\"\n",
    "    self.arms = arms\n",
    "    theta = [np.zeros(self.d)]*K\n",
    "    payoff = np.zeros(K)\n",
    "    for arm in range(K):\n",
    "        theta[arm] = pinv(self.A[arm]) @ self.b[arm]\n",
    "        payoff[arm] = theta[arm] @ arms[arm] + self.alpha * np.sqrt(np.transpose(arms[arm])@pinv(self.A[arm])@arms[arm])\n",
    "    \n",
    "    arm = np.argmax(payoff)\n",
    "    self.index = arm\n",
    "    return(arm)\n",
    "    \n",
    "\n",
    "  def updateState(self, chosen_arm, reward):\n",
    "    #MAJ A et b\n",
    "    self.A[self.index] += chosen_arm @ np.transpose(chosen_arm)\n",
    "    self.b[self.index] += reward * chosen_arm\n",
    "\n",
    "  def id(self):\n",
    "    return \"LinUCB_Li\"\n",
    "\n",
    "# This policy implement the LinUCB algorithm as seen in the slides\n",
    "class LinUCB_naive(Policy):\n",
    "\n",
    "  def __init__(self, T, d, K, lmbda, delta):\n",
    "    #self.T = T\n",
    "    self.lmbda = lmbda\n",
    "    self.delta = delta\n",
    "    self.d = d\n",
    "    self.delta = delta\n",
    "    self.K = K\n",
    "    self.index = -1\n",
    "    #dropping the loglog(t) term for now\n",
    "\n",
    "  def init(self):\n",
    "    #INIT A et b\n",
    "    #self.t = 0\n",
    "    self.V = [np.identity(self.d)*self.lmbda]*self.K\n",
    "    self.b = [np.zeros(self.d)]*self.K\n",
    "    self.t = 0\n",
    "\n",
    "  def selectArm(self, arms, K):\n",
    "    \"\"\"\n",
    "        This function implements LinUCB\n",
    "        Input:\n",
    "        -------\n",
    "        arms : list of arms (d-dimensional vectors)\n",
    "\n",
    "        Output:\n",
    "        -------\n",
    "        chosen_arm : index of the pulled arm\n",
    "        \"\"\"\n",
    "    self.arms = arms\n",
    "    theta = [np.zeros(self.d)]*K\n",
    "    payoff = np.zeros(K)\n",
    "    for arm in range(K):\n",
    "        theta[arm] = pinv(self.V[arm]) @ self.b[arm]\n",
    "        Beta = np.sqrt(self.lmbda*self.t) + np.sqrt(2*np.log(1/self.delta) + np.log(np.linalg.det(self.V[arm])/self.lmbda**self.d))\n",
    "        payoff[arm] = theta[arm] @ arms[arm] + np.sqrt(Beta) * arms[arm]@pinv(self.V[arm])@np.transpose(arms[arm])\n",
    "        \n",
    "    \n",
    "    arm = np.argmax(payoff)\n",
    "    self.index = arm\n",
    "    return(arm)\n",
    "    \n",
    "\n",
    "  def updateState(self, chosen_arm, reward):\n",
    "    #MAJ A et b\n",
    "    self.V[self.index] += chosen_arm @ np.transpose(chosen_arm)\n",
    "    self.b[self.index] += reward * chosen_arm\n",
    "\n",
    "  def id(self):\n",
    "    return \"LinUCB_Li\""
   ]
  },
  {
   "cell_type": "markdown",
   "metadata": {
    "colab_type": "text",
    "id": "AY1ZUny5I4Pl"
   },
   "source": [
    "# main"
   ]
  },
  {
   "cell_type": "code",
   "execution_count": 49,
   "metadata": {
    "ExecuteTime": {
     "end_time": "2020-01-18T19:49:52.199257Z",
     "start_time": "2020-01-18T19:42:30.198820Z"
    },
    "colab": {
     "base_uri": "https://localhost:8080/",
     "height": 138
    },
    "colab_type": "code",
    "id": "0BoYONrQBAan",
    "outputId": "33d7f115-c725-4544-f2ea-47e68bf8ad30"
   },
   "outputs": [
    {
     "name": "stdout",
     "output_type": "stream",
     "text": [
      "experiments executed: 0\n",
      "experiments executed: 2\n",
      "experiments executed: 4\n",
      "experiments executed: 6\n",
      "experiments executed: 8\n",
      "build data out of the experiments\n",
      "data built\n"
     ]
    }
   ],
   "source": [
    "import time\n",
    "import numpy as np\n",
    "import pickle\n",
    "\n",
    "d = 15  # dimension\n",
    "K = 30  # number of arms\n",
    "\n",
    "# parametor vector \\theta, normalized :\n",
    "theta = np.random.randint(2, size=d)\n",
    "theta = theta / np.linalg.norm(theta)\n",
    "\n",
    "\n",
    "T = 5000  # Finite Horizon\n",
    "N = 10  # Monte Carlo simulations\n",
    "\n",
    "delta = 1\n",
    "alpha = 1\n",
    "lmbda = 1\n",
    "\n",
    "\n",
    "# save subsampled points for Figures\n",
    "Nsub = 100\n",
    "tsav = range(2, T, Nsub)\n",
    "\n",
    "#choice of quantile display\n",
    "q = 10\n",
    "\n",
    "\n",
    "\n",
    "def main(N):\n",
    "\n",
    "  # Create an object of K arms with delayed feedback with mean delay tau\n",
    "  env = Environment(d, K, theta)\n",
    "  # Policies to evaluate\n",
    "  policies = [LinUCB_naive(T, d, K, lmbda, delta), \n",
    "              Uniform(T,d)]\n",
    "\n",
    "  simulator = Simulator(env, policies, K, d)\n",
    "\n",
    "  regret, avgRegret, qRegret, QRegret= simulator.run(T, N, q, tsav)\n",
    "\n",
    "  data = [[\n",
    "      policy, regret[policy], avgRegret[policy], qRegret[policy],\n",
    "      QRegret[policy]\n",
    "  ] for policy in avgRegret]\n",
    "\n",
    "  return data\n",
    "\n",
    "\n",
    "data = main(N)\n",
    "  \n",
    "  #data \n",
    "#   with open('linucb_test' + str(d) + '_dim-' + str(K) + '_K' + '.pkl',\n",
    "#             'wb') as foutput:\n",
    "#     pickle.dump(data, foutput, protocol=2)\n",
    "\n",
    "\n",
    "  \n",
    "  \n",
    " "
   ]
  },
  {
   "cell_type": "code",
   "execution_count": 51,
   "metadata": {
    "ExecuteTime": {
     "end_time": "2020-01-18T19:49:52.726604Z",
     "start_time": "2020-01-18T19:49:52.227152Z"
    },
    "colab": {
     "base_uri": "https://localhost:8080/",
     "height": 401
    },
    "colab_type": "code",
    "id": "4Aw_Nb8MDzJl",
    "outputId": "aedf8da5-4049-411b-9564-c636ca9f4e5b"
   },
   "outputs": [
    {
     "data": {
      "image/png": "[encoded data removed]",
      "text/plain": [
       "<Figure size 504x432 with 1 Axes>"
      ]
     },
     "metadata": {},
     "output_type": "display_data"
    }
   ],
   "source": [
    "\n",
    "freq = 10\n",
    "plot_regret(\n",
    "    data,\n",
    "    tsav,\n",
    "    'linucb_test' + str(d) + '_dim-' + str(K) + '_K',\n",
    "    log=False,\n",
    "    freq=freq,\n",
    "    qtl=True)"
   ]
  },
  {
   "cell_type": "code",
   "execution_count": null,
   "metadata": {
    "colab": {},
    "colab_type": "code",
    "id": "omuovVLcKxCw"
   },
   "outputs": [],
   "source": []
  }
 ],
 "metadata": {
  "colab": {
   "collapsed_sections": [],
   "name": "StochasticLinearBandits.ipynb",
   "provenance": []
  },
  "kernelspec": {
   "display_name": "Python 3",
   "language": "python",
   "name": "python3"
  },
  "language_info": {
   "codemirror_mode": {
    "name": "ipython",
    "version": 3
   },
   "file_extension": ".py",
   "mimetype": "text/x-python",
   "name": "python",
   "nbconvert_exporter": "python",
   "pygments_lexer": "ipython3",
   "version": "3.6.5"
  },
  "toc": {
   "base_numbering": 1,
   "nav_menu": {},
   "number_sections": true,
   "sideBar": true,
   "skip_h1_title": true,
   "title_cell": "Table of Contents",
   "title_sidebar": "Contents",
   "toc_cell": true,
   "toc_position": {},
   "toc_section_display": true,
   "toc_window_display": false
  }
 },
 "nbformat": 4,
 "nbformat_minor": 1
}
